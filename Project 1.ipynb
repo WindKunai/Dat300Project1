{
 "cells": [
  {
   "cell_type": "markdown",
   "metadata": {},
   "source": [
    "<h1>PROJECT 1</h1>\n",
    "\n",
    "<h3>Abstract<h3>\n",
    "<h4>This task was about testing the capabilities of the machines we used through error points and teaching algebra to the machine so that it knows how to find the difference</h4>\n",
    "\n",
    "\n",
    "\n",
    "\n",
    "\n",
    "<h2>Task 1:</h2>\n",
    "<h3>Part 1</h3>"
   ]
  },
  {
   "cell_type": "code",
   "execution_count": 1,
   "metadata": {},
   "outputs": [],
   "source": [
    "import numpy as np\n",
    "import matplotlib.pyplot as plt"
   ]
  },
  {
   "cell_type": "markdown",
   "metadata": {},
   "source": [
    "EXERCISE 1\n",
    "Part 1"
   ]
  },
  {
   "cell_type": "code",
   "execution_count": 2,
   "metadata": {},
   "outputs": [
    {
     "data": {
      "text/plain": [
       "sys.float_info(max=1.7976931348623157e+308, max_exp=1024, max_10_exp=308, min=2.2250738585072014e-308, min_exp=-1021, min_10_exp=-307, dig=15, mant_dig=53, epsilon=2.220446049250313e-16, radix=2, rounds=1)"
      ]
     },
     "execution_count": 2,
     "metadata": {},
     "output_type": "execute_result"
    }
   ],
   "source": [
    "import sys\n",
    "sys.float_info"
   ]
  },
  {
   "cell_type": "markdown",
   "metadata": {},
   "source": [
    "The command \"sys.float_info\" prints out following informations:\n",
    "\n",
    "    - max: the highest positive floating point (1.798e+308) that can be used to represent a number in Python.\n",
    "    - max_exp: the highest integer i (1024) such that i-1 in e**i results in a representative (within exisitng range) floating-point in Python.\n",
    "    - max_10_exp: the highest integer i (308) such that 10**i results in a representative floating-point in Python.\n",
    "    - min: the smallest (positive) floating point (2.225e-308) that can be used to represent a number in Python.\n",
    "    - min_exp: the highest negative integer i (-1021) such that i-1 in e**i results in a within-exisitng-range floating-point in Python.\n",
    "    - min_10_exp: the highest negative integer i (-307) such that 10**i results in a representative floating-point in Python.\n",
    "    - dig: the highest number of significant figures that a float can have in order to stay uninfluenced when formated (?)\n",
    "    - mant_dig: number of bits used for the mantissa/significand in the representation of a floating point. \n",
    "    - epsilon: The smallest value (2.220e-16) greater than 1 that can be added to 1 in order to generate a new floating point. \n",
    "    - radix: provides the base of the floating-point representation. Number 2 indicates they are stored in the most common, binary system. \n",
    "    - rounds: Rounding modes of floats in Python. \"1\" stands for Pythons' standard rounding mode. Mode \"1\" rounds floats to the nearest value, where ties are being rounded to the nearest even number. \n"
   ]
  },
  {
   "cell_type": "markdown",
   "metadata": {},
   "source": [
    "Part 2"
   ]
  },
  {
   "cell_type": "markdown",
   "metadata": {},
   "source": [
    "    The value 1.7976931348623157e+308 can be calculated using the following formula:\n",
    "\n",
    "max = (2-2**(-mant_dig))*2**(max_exp-1)\n",
    "\n",
    "As explained above, number of bits used for representing the mantissa of a floating point is 53. max_exp stands for the highest integer i (1024) such that i-1 in e**i results in a representative (within exisitng range) floating-point in Python.\n",
    "\n",
    "    Value 2.2250738585072014e-308:\n",
    "\n",
    "In a 64 bit floating point representation a number is represented by: \n",
    "\n",
    "value = sign * (1 + mantissa) * 2 ** (exponent-bias)\n",
    "\n",
    "Sign must be \"+\". Mantissa stays zero to represent the smallest possible number \"0\". The smallest exponent is 1 (which corresponds to an actual exponent of -1022 when subtracting the bias of 1023). The formula simplifies to:\n",
    "\n",
    "2.225e-308 = 1 * 2 ** (-1022)\n",
    "\n",
    "    Value 2.220446049250313e-16:\n",
    "\n",
    "The smallest possible numerical change that can be made to a number in a 64-bit floating point representation is 2**(-52), which equals 2.22e-16."
   ]
  },
  {
   "cell_type": "markdown",
   "metadata": {},
   "source": [
    "Part 3"
   ]
  },
  {
   "cell_type": "markdown",
   "metadata": {},
   "source": [
    "0.1 + 0.2 won't produce an exact 0.3 output, because both these numbers cannot be represented exactly. Instead, they are approximated:\n",
    "\n",
    "    0.1 = 0.000110011001100110011001100110011001100110011001100110011001100 = 0.09999999999999999991\n",
    "\n",
    "    0.2 = 0.0011001100110011001100110011001100110011001100110011001100110011 = 0.19999999999999999999\n",
    "\n",
    "0.25 + 0.125 will produce an exact 0.375 output, because both these numbers are represented exactly:\n",
    "\n",
    "    0.25 = 0.01\n",
    "\n",
    "    0.125 = 0.001\n",
    "\n",
    "When added together they reproduce an exact number 0.375."
   ]
  },
  {
   "cell_type": "markdown",
   "metadata": {},
   "source": [
    "Part 4"
   ]
  },
  {
   "cell_type": "code",
   "execution_count": 3,
   "metadata": {},
   "outputs": [
    {
     "name": "stdout",
     "output_type": "stream",
     "text": [
      "no\n"
     ]
    }
   ],
   "source": [
    "i = 0.1 + 0.2\n",
    "j = 0.3\n",
    "\n",
    "if i == j:\n",
    "    print(\"yes\")\n",
    "else: \n",
    "    print(\"no\")"
   ]
  },
  {
   "cell_type": "markdown",
   "metadata": {},
   "source": [
    "Comparing floating points like this isn't reliable, because of the way floating point numbers are represented and added together. However, their addition, for example 0.1 + 0.2 = 0.300...04, lays so close to the real value that their similarity can be aproximated:"
   ]
  },
  {
   "cell_type": "code",
   "execution_count": 4,
   "metadata": {},
   "outputs": [],
   "source": [
    "def almost(i, j):\n",
    "    return np.abs(i-j) < 0.0000000001\n",
    "\n",
    "i = eval(input(\"First float?: \"))\n",
    "j = eval(input(\"Second float?: \"))\n",
    "\n",
    "if almost(i, j):\n",
    "    print(\"These are equal\")\n",
    "else:\n",
    "    print(\"Not equal\")"
   ]
  },
  {
   "cell_type": "markdown",
   "metadata": {},
   "source": [
    "EXERCISE 2\n",
    "\n",
    "Part 1"
   ]
  },
  {
   "cell_type": "code",
   "execution_count": null,
   "metadata": {},
   "outputs": [
    {
     "ename": "",
     "evalue": "",
     "output_type": "error",
     "traceback": [
      "\u001b[1;31mRunning cells with 'Python 3.12.3' requires the ipykernel package.\n",
      "\u001b[1;31mRun the following command to install 'ipykernel' into the Python environment. \n",
      "\u001b[1;31mCommand: '/usr/local/bin/python3 -m pip install ipykernel -U --user --force-reinstall'"
     ]
    }
   ],
   "source": [
    "import numpy as np\n",
    "x = np.linspace(0,9,10)\n",
    "y = [0,1,2,3,4,5,6,7,8,9]\n",
    "np.exp(-x)"
   ]
  },
  {
   "cell_type": "markdown",
   "metadata": {},
   "source": [
    "np.exp() function can be applied both to arrays, such as x, and lists, such as y. The problem occours when we command np.exp() function to automatically change the sign of a list; np.exp(-list). The function cannot change each item of a list automatically, their sign must be changed manually. np.exp() can, however, automatically change signs of every item in an array. This is a good representation of numpys' superior effectivity. "
   ]
  },
  {
   "cell_type": "markdown",
   "metadata": {},
   "source": [
    "Normally, I would evaluate a function on all elements/items of a list for example as follows:"
   ]
  },
  {
   "cell_type": "code",
   "execution_count": null,
   "metadata": {},
   "outputs": [
    {
     "ename": "",
     "evalue": "",
     "output_type": "error",
     "traceback": [
      "\u001b[1;31mRunning cells with 'Python 3.12.3' requires the ipykernel package.\n",
      "\u001b[1;31mRun the following command to install 'ipykernel' into the Python environment. \n",
      "\u001b[1;31mCommand: '/usr/local/bin/python3 -m pip install ipykernel -U --user --force-reinstall'"
     ]
    }
   ],
   "source": [
    "for i in y:\n",
    "    print(np.exp(-i))"
   ]
  },
  {
   "cell_type": "markdown",
   "metadata": {},
   "source": [
    "Part 2"
   ]
  },
  {
   "cell_type": "markdown",
   "metadata": {},
   "source": [
    "Functions:\n",
    "\n",
    "    - np.zero(i): creates an array of i zeros.\n",
    "    - np.ones(i): creates an array of i ones.\n",
    "    - np.linspace(a, b, c): creates an array of c elements evenly distributed between a and b, including a and b.\n",
    "    - np.linspace(a, b, c, endpoint = false): first divides np.linspace(a, b, c) in c+1 elements between a and b. Then excludes the last element.\n",
    "    - vector = np.arange(5) + 1: creates a five elements long array called \"vector\" [1, 2, 3, 4, 5]. \n",
    "    - 2*vector: multiplies each element of \"vector\" by 2. "
   ]
  },
  {
   "cell_type": "markdown",
   "metadata": {},
   "source": [
    "Producing the same output using native Python lists:"
   ]
  },
  {
   "cell_type": "code",
   "execution_count": null,
   "metadata": {},
   "outputs": [
    {
     "ename": "",
     "evalue": "",
     "output_type": "error",
     "traceback": [
      "\u001b[1;31mRunning cells with 'Python 3.12.3' requires the ipykernel package.\n",
      "\u001b[1;31mRun the following command to install 'ipykernel' into the Python environment. \n",
      "\u001b[1;31mCommand: '/usr/local/bin/python3 -m pip install ipykernel -U --user --force-reinstall'"
     ]
    }
   ],
   "source": [
    "\"np.zero(20):\"\n",
    "x = []\n",
    "for i in range(0,20):\n",
    "    x.append(0)\n",
    "print(x)"
   ]
  },
  {
   "cell_type": "code",
   "execution_count": null,
   "metadata": {},
   "outputs": [
    {
     "ename": "",
     "evalue": "",
     "output_type": "error",
     "traceback": [
      "\u001b[1;31mRunning cells with 'Python 3.12.3' requires the ipykernel package.\n",
      "\u001b[1;31mRun the following command to install 'ipykernel' into the Python environment. \n",
      "\u001b[1;31mCommand: '/usr/local/bin/python3 -m pip install ipykernel -U --user --force-reinstall'"
     ]
    }
   ],
   "source": [
    "\"np.ones(20):\"\n",
    "x = []\n",
    "for i in range(0,20):\n",
    "    x.append(1)\n",
    "print(x)"
   ]
  },
  {
   "cell_type": "code",
   "execution_count": null,
   "metadata": {},
   "outputs": [
    {
     "ename": "",
     "evalue": "",
     "output_type": "error",
     "traceback": [
      "\u001b[1;31mRunning cells with 'Python 3.12.3' requires the ipykernel package.\n",
      "\u001b[1;31mRun the following command to install 'ipykernel' into the Python environment. \n",
      "\u001b[1;31mCommand: '/usr/local/bin/python3 -m pip install ipykernel -U --user --force-reinstall'"
     ]
    }
   ],
   "source": [
    "\"np.linspace(0,10,11)\"\n",
    "x = []\n",
    "for i in range(0,11):\n",
    "    x.append(i)\n",
    "print(x)"
   ]
  },
  {
   "cell_type": "code",
   "execution_count": null,
   "metadata": {},
   "outputs": [
    {
     "ename": "",
     "evalue": "",
     "output_type": "error",
     "traceback": [
      "\u001b[1;31mRunning cells with 'Python 3.12.3' requires the ipykernel package.\n",
      "\u001b[1;31mRun the following command to install 'ipykernel' into the Python environment. \n",
      "\u001b[1;31mCommand: '/usr/local/bin/python3 -m pip install ipykernel -U --user --force-reinstall'"
     ]
    }
   ],
   "source": [
    "\"Last lines\"\n",
    "vector = []\n",
    "for i in range(0,5):\n",
    "    vector.append((i+1)*2)\n",
    "print(vector)"
   ]
  },
  {
   "cell_type": "markdown",
   "metadata": {},
   "source": [
    "Part 3"
   ]
  },
  {
   "cell_type": "code",
   "execution_count": null,
   "metadata": {},
   "outputs": [
    {
     "ename": "",
     "evalue": "",
     "output_type": "error",
     "traceback": [
      "\u001b[1;31mRunning cells with 'Python 3.12.3' requires the ipykernel package.\n",
      "\u001b[1;31mRun the following command to install 'ipykernel' into the Python environment. \n",
      "\u001b[1;31mCommand: '/usr/local/bin/python3 -m pip install ipykernel -U --user --force-reinstall'"
     ]
    }
   ],
   "source": [
    "array_of_numbers = np.array([4, 8, 15, 16, 23, 42, 0, 5])\n",
    "nnz = np.count_nonzero(array_of_numbers)\n",
    "print(f'There are {nnz} non-zero numbers in the array.')\n",
    "is_even = (array_of_numbers % 2 == 0)\n",
    "is_greater_than_17 = (array_of_numbers > 17)"
   ]
  },
  {
   "cell_type": "markdown",
   "metadata": {},
   "source": [
    "The first line of code in the cell below crushes, because \"and\" operator doesn't evaluate validity (\"truthiness\") of every element in each array, is_even and is_greater_than_17. Rather, it treats both as single boolean values. This prevents Python from generating a new array where every element of array_of_numbers would be evaluated separately. To perform logical element-wise analysis like in this case, operator \"&\" is used.\n",
    "\n",
    "The second line fails, because both arrays on each side of \"&\" sign lack additional brackets. "
   ]
  },
  {
   "cell_type": "code",
   "execution_count": null,
   "metadata": {},
   "outputs": [
    {
     "ename": "",
     "evalue": "",
     "output_type": "error",
     "traceback": [
      "\u001b[1;31mRunning cells with 'Python 3.12.3' requires the ipykernel package.\n",
      "\u001b[1;31mRun the following command to install 'ipykernel' into the Python environment. \n",
      "\u001b[1;31mCommand: '/usr/local/bin/python3 -m pip install ipykernel -U --user --force-reinstall'"
     ]
    }
   ],
   "source": [
    "is_even_and_greater_than_17 = is_even and is_greater_than_17\n",
    "print((array_of_numbers % 2 == 0) & (array_of_numbers > 17))"
   ]
  },
  {
   "cell_type": "markdown",
   "metadata": {},
   "source": [
    "This is how such code could look like, in order to work. \"and\" is replaced by \"&\", and extra brackets are added."
   ]
  },
  {
   "cell_type": "code",
   "execution_count": null,
   "metadata": {},
   "outputs": [
    {
     "ename": "",
     "evalue": "",
     "output_type": "error",
     "traceback": [
      "\u001b[1;31mRunning cells with 'Python 3.12.3' requires the ipykernel package.\n",
      "\u001b[1;31mRun the following command to install 'ipykernel' into the Python environment. \n",
      "\u001b[1;31mCommand: '/usr/local/bin/python3 -m pip install ipykernel -U --user --force-reinstall'"
     ]
    }
   ],
   "source": [
    "array_of_numbers = np.array([4, 8, 15, 16, 23, 42, 0, 5])\n",
    "nnz = np.count_nonzero(array_of_numbers)\n",
    "print(f'There are {nnz} non-zero numbers in the array.')\n",
    "is_even = (array_of_numbers % 2 == 0)\n",
    "is_greater_than_17 = (array_of_numbers > 17)\n",
    "\n",
    "is_even_and_greater_than_17 = is_even & is_greater_than_17\n",
    "print((array_of_numbers % 2 == 0) & (array_of_numbers > 17))"
   ]
  },
  {
   "cell_type": "code",
   "execution_count": null,
   "metadata": {},
   "outputs": [
    {
     "ename": "",
     "evalue": "",
     "output_type": "error",
     "traceback": [
      "\u001b[1;31mRunning cells with 'Python 3.12.3' requires the ipykernel package.\n",
      "\u001b[1;31mRun the following command to install 'ipykernel' into the Python environment. \n",
      "\u001b[1;31mCommand: '/usr/local/bin/python3 -m pip install ipykernel -U --user --force-reinstall'"
     ]
    }
   ],
   "source": [
    "# Using np.logical_and:\n",
    "\n",
    "array_of_numbers = np.array([4, 8, 15, 16, 23, 42, 0, 5])\n",
    "nnz = np.count_nonzero(array_of_numbers)\n",
    "print(f'There are {nnz} non-zero numbers in the array.')\n",
    "is_even = (array_of_numbers % 2 == 0)\n",
    "is_greater_than_17 = (array_of_numbers > 17)\n",
    "\n",
    "is_even_and_greater_than_17 = np.logical_and(is_even, is_greater_than_17)\n",
    "print(is_even_and_greater_than_17)"
   ]
  },
  {
   "cell_type": "markdown",
   "metadata": {},
   "source": [
    "Part 4"
   ]
  },
  {
   "cell_type": "markdown",
   "metadata": {},
   "source": [
    "Function np.where() indicates which elements of an array fulfill given requirement, in this case x > 17, and where in the array it lays."
   ]
  },
  {
   "cell_type": "code",
   "execution_count": null,
   "metadata": {},
   "outputs": [
    {
     "ename": "",
     "evalue": "",
     "output_type": "error",
     "traceback": [
      "\u001b[1;31mRunning cells with 'Python 3.12.3' requires the ipykernel package.\n",
      "\u001b[1;31mRun the following command to install 'ipykernel' into the Python environment. \n",
      "\u001b[1;31mCommand: '/usr/local/bin/python3 -m pip install ipykernel -U --user --force-reinstall'"
     ]
    }
   ],
   "source": [
    "np.where(array_of_numbers > 17)[0]"
   ]
  },
  {
   "cell_type": "markdown",
   "metadata": {},
   "source": [
    "Function np.where(condition, 1, 0) returns an array where elements of the original array get changed into 1 if they fulfill, or into 0 if they don't fulfill the given condition."
   ]
  },
  {
   "cell_type": "code",
   "execution_count": null,
   "metadata": {},
   "outputs": [
    {
     "ename": "",
     "evalue": "",
     "output_type": "error",
     "traceback": [
      "\u001b[1;31mRunning cells with 'Python 3.12.3' requires the ipykernel package.\n",
      "\u001b[1;31mRun the following command to install 'ipykernel' into the Python environment. \n",
      "\u001b[1;31mCommand: '/usr/local/bin/python3 -m pip install ipykernel -U --user --force-reinstall'"
     ]
    }
   ],
   "source": [
    "np.where(array_of_numbers > 17, 1, 0)"
   ]
  },
  {
   "cell_type": "markdown",
   "metadata": {},
   "source": [
    "EXERCISE 3 \n",
    "Part 1"
   ]
  },
  {
   "cell_type": "code",
   "execution_count": null,
   "metadata": {},
   "outputs": [
    {
     "ename": "",
     "evalue": "",
     "output_type": "error",
     "traceback": [
      "\u001b[1;31mRunning cells with 'Python 3.12.3' requires the ipykernel package.\n",
      "\u001b[1;31mRun the following command to install 'ipykernel' into the Python environment. \n",
      "\u001b[1;31mCommand: '/usr/local/bin/python3 -m pip install ipykernel -U --user --force-reinstall'"
     ]
    }
   ],
   "source": [
    "import matplotlib.pyplot as plt\n",
    "\n",
    "def f(x, a=0.1, b=10):\n",
    "    return np.sin(b*x)*np.exp(-a*x*x)"
   ]
  },
  {
   "cell_type": "code",
   "execution_count": null,
   "metadata": {},
   "outputs": [
    {
     "ename": "",
     "evalue": "",
     "output_type": "error",
     "traceback": [
      "\u001b[1;31mRunning cells with 'Python 3.12.3' requires the ipykernel package.\n",
      "\u001b[1;31mRun the following command to install 'ipykernel' into the Python environment. \n",
      "\u001b[1;31mCommand: '/usr/local/bin/python3 -m pip install ipykernel -U --user --force-reinstall'"
     ]
    }
   ],
   "source": [
    "xpoints = np.linspace(0,10,1000)\n",
    "ypoints = f(xpoints)\n",
    "# Plot over an arbitrary chosen range 1-10.\n",
    "plt.plot(xpoints,ypoints)\n",
    "plt.show()"
   ]
  },
  {
   "cell_type": "code",
   "execution_count": null,
   "metadata": {},
   "outputs": [
    {
     "ename": "",
     "evalue": "",
     "output_type": "error",
     "traceback": [
      "\u001b[1;31mRunning cells with 'Python 3.12.3' requires the ipykernel package.\n",
      "\u001b[1;31mRun the following command to install 'ipykernel' into the Python environment. \n",
      "\u001b[1;31mCommand: '/usr/local/bin/python3 -m pip install ipykernel -U --user --force-reinstall'"
     ]
    }
   ],
   "source": [
    "# Plot in the range [-10, 10]:\n",
    "xpoints = np.linspace(-10,10,1500)\n",
    "ypoints = f(xpoints)\n",
    "plt.plot(xpoints,ypoints)\n",
    "plt.show()"
   ]
  },
  {
   "cell_type": "markdown",
   "metadata": {},
   "source": [
    "Part 2"
   ]
  },
  {
   "cell_type": "code",
   "execution_count": null,
   "metadata": {},
   "outputs": [
    {
     "ename": "",
     "evalue": "",
     "output_type": "error",
     "traceback": [
      "\u001b[1;31mRunning cells with 'Python 3.12.3' requires the ipykernel package.\n",
      "\u001b[1;31mRun the following command to install 'ipykernel' into the Python environment. \n",
      "\u001b[1;31mCommand: '/usr/local/bin/python3 -m pip install ipykernel -U --user --force-reinstall'"
     ]
    }
   ],
   "source": [
    "def fder(x,a,b):\n",
    "    return b*np.cos(b*x)*np.exp(-a*x*x)-2*a*x*np.sin(b*x)*np.exp(-a*x*x)"
   ]
  },
  {
   "cell_type": "code",
   "execution_count": null,
   "metadata": {},
   "outputs": [
    {
     "ename": "",
     "evalue": "",
     "output_type": "error",
     "traceback": [
      "\u001b[1;31mRunning cells with 'Python 3.12.3' requires the ipykernel package.\n",
      "\u001b[1;31mRun the following command to install 'ipykernel' into the Python environment. \n",
      "\u001b[1;31mCommand: '/usr/local/bin/python3 -m pip install ipykernel -U --user --force-reinstall'"
     ]
    }
   ],
   "source": [
    "xlist = np.linspace(-10,10,1000)\n",
    "ylist = fder(xlist, 0.1, 10)\n",
    "plt.plot(xlist,ylist)\n",
    "plt.show()"
   ]
  },
  {
   "cell_type": "markdown",
   "metadata": {},
   "source": [
    "Part 3\n",
    "\n",
    "Python function that calculates the derivative of provided function using the forward difference method."
   ]
  },
  {
   "cell_type": "code",
   "execution_count": null,
   "metadata": {},
   "outputs": [
    {
     "ename": "",
     "evalue": "",
     "output_type": "error",
     "traceback": [
      "\u001b[1;31mRunning cells with 'Python 3.12.3' requires the ipykernel package.\n",
      "\u001b[1;31mRun the following command to install 'ipykernel' into the Python environment. \n",
      "\u001b[1;31mCommand: '/usr/local/bin/python3 -m pip install ipykernel -U --user --force-reinstall'"
     ]
    }
   ],
   "source": [
    "def forward_difference_derivative(f, x, h=0.0000001):\n",
    "     return (f(x + h) - f(x)) / h\n",
    "\n",
    "x_value = 1\n",
    "derivative_at_x = forward_difference_derivative(f, x_value)\n",
    "\n",
    "print(f\"The derivative of f(x) at x = {x_value} using forward difference is approximately {derivative_at_x}\")"
   ]
  },
  {
   "cell_type": "markdown",
   "metadata": {},
   "source": [
    "Part 4\n",
    "\n",
    "Python function that calculates the derivative of provided function using the central difference method."
   ]
  },
  {
   "cell_type": "code",
   "execution_count": null,
   "metadata": {},
   "outputs": [
    {
     "ename": "",
     "evalue": "",
     "output_type": "error",
     "traceback": [
      "\u001b[1;31mRunning cells with 'Python 3.12.3' requires the ipykernel package.\n",
      "\u001b[1;31mRun the following command to install 'ipykernel' into the Python environment. \n",
      "\u001b[1;31mCommand: '/usr/local/bin/python3 -m pip install ipykernel -U --user --force-reinstall'"
     ]
    }
   ],
   "source": [
    "def central_difference_derivative(f, x, h=0.000001):\n",
    "    return (f(x + h) - f(x - h)) / (2 * h)\n",
    "\n",
    "x_value = 1\n",
    "derivative_at_x = forward_difference_derivative(f, x_value)\n",
    "\n",
    "print(f\"The derivative of f(x) at x = {x_value} using forward difference is approximately {derivative_at_x}\")"
   ]
  },
  {
   "cell_type": "markdown",
   "metadata": {},
   "source": [
    "Part 5\n",
    "\n",
    "Scatter plots that show the absolute error of the approximation on the y-axis versus the step size."
   ]
  },
  {
   "cell_type": "code",
   "execution_count": null,
   "metadata": {},
   "outputs": [
    {
     "ename": "",
     "evalue": "",
     "output_type": "error",
     "traceback": [
      "\u001b[1;31mRunning cells with 'Python 3.12.3' requires the ipykernel package.\n",
      "\u001b[1;31mRun the following command to install 'ipykernel' into the Python environment. \n",
      "\u001b[1;31mCommand: '/usr/local/bin/python3 -m pip install ipykernel -U --user --force-reinstall'"
     ]
    }
   ],
   "source": [
    "dx = np.logspace(-16,-1,16)\n",
    "\n",
    "forward_results = forward_difference_derivative(f,1,dx)\n",
    "real_value = 7.49378\n",
    "absolute_error1 = []\n",
    "for i in forward_results:\n",
    "    absolute_error1.append(np.abs(np.abs(i)-real_value))\n",
    "\n",
    "central_results = central_difference_derivative(f,1,dx)\n",
    "real_value = 7.49378\n",
    "absolute_error2 = []\n",
    "for i in central_results:\n",
    "    absolute_error2.append(np.abs(np.abs(i)-real_value))\n",
    "\n",
    "plt.figure(figsize=(10, 6))\n",
    "plt.plot(dx[2:15], absolute_error1[2:15], color='red', marker='o')\n",
    "plt.plot(dx[2:15], absolute_error2[2:15], color='blue', marker='o')\n",
    "plt.xscale(\"log\")\n",
    "plt.yscale('log')\n",
    "plt.xlabel('Step Size h')\n",
    "plt.ylabel('Absolute Error')\n",
    "plt.show()"
   ]
  },
  {
   "cell_type": "markdown",
   "metadata": {},
   "source": [
    "The figure above plots the absolute error between a result achieved through forward/central difference method and the real value of f'(x), with step size h-values on the x-axis and absolute error values on the y-axis. It shows that the smallest absolute error using forward difference method occours at h=10^-7, and at h=10^-9 using central difference method. The smallest absolute error occurs near 10^-8 because this is where truncation error and round-off error balance each other. "
   ]
  },
  {
   "cell_type": "markdown",
   "metadata": {},
   "source": [
    "EXERCISE 3\n",
    "\n",
    "Part II"
   ]
  },
  {
   "cell_type": "code",
   "execution_count": null,
   "metadata": {},
   "outputs": [
    {
     "ename": "",
     "evalue": "",
     "output_type": "error",
     "traceback": [
      "\u001b[1;31mRunning cells with 'Python 3.12.3' requires the ipykernel package.\n",
      "\u001b[1;31mRun the following command to install 'ipykernel' into the Python environment. \n",
      "\u001b[1;31mCommand: '/usr/local/bin/python3 -m pip install ipykernel -U --user --force-reinstall'"
     ]
    }
   ],
   "source": [
    "import numpy as np\n",
    "import matplotlib.pyplot as plt\n",
    "\n",
    "class WavePocket:\n",
    "\n",
    "    def __init__(self,a,b):\n",
    "        self.a = a\n",
    "        self.b = b\n",
    "\n",
    "    def f(self, x):\n",
    "        return np.sin(self.b*x)*np.exp(-self.a*x*x)\n",
    "    \n",
    "    def plot(self, x_min=-10, x_max=10, dx=0.01):\n",
    "        x = np.arange(x_min, x_max, dx)\n",
    "        y = self.f(x)\n",
    "        fig = plt.figure()\n",
    "        plt.plot(x,y)\n",
    "        plt.grid()\n",
    "        plt.show()\n",
    "\n",
    "    def forward_difference_approximation(self, x, h):\n",
    "        return (self.f(x + h) - self.f(x)) / h\n",
    "    \n",
    "    def central_difference_approximation(self, x, h):\n",
    "        return (self.f(x+h) - self.f(x-h)) / (2*h)\n",
    "    \n",
    "    def exact_derivative(self, x):\n",
    "        # \"Exact analytical derivative\"\n",
    "        return (self.b * np.cos(self.b * x) * np.exp(-self.a * x * x)) - (2 * self.a * x * np.sin(self.b * x) * np.exp(-self.a * x * x))\n",
    "\n",
    "    def plot_error_vs_step_size(self, x):\n",
    "        h_values = np.logspace(-16, 0, 17) \n",
    "        exact_value = self.exact_derivative(x)\n",
    "        \n",
    "        forward_errors = []\n",
    "        central_errors = []\n",
    "\n",
    "        for h in h_values:\n",
    "            forward_approx = self.forward_difference_approximation(x, h)\n",
    "            central_approx = self.central_difference_approximation(x, h)\n",
    "            forward_errors.append(abs(forward_approx - exact_value))\n",
    "            central_errors.append(abs(central_approx - exact_value))\n",
    "        \n",
    "        plt.figure(figsize=(10, 6))\n",
    "        plt.scatter(h_values, forward_errors, label=\"Forward Difference Error\", color='r', marker='o')\n",
    "        plt.scatter(h_values, central_errors, label=\"Central Difference Error\", color='b', marker='x')\n",
    "        plt.xscale('log')\n",
    "        plt.yscale('log')\n",
    "        plt.xlabel('Step size (h)')\n",
    "        plt.ylabel('Absolute Error')\n",
    "        plt.title(f'Error in Finite Difference Approximations of f\\'(x) at x = {x}')\n",
    "        plt.grid(True, which=\"both\", ls=\"--\")\n",
    "        plt.legend()\n",
    "        plt.show()\n"
   ]
  },
  {
   "cell_type": "code",
   "execution_count": null,
   "metadata": {},
   "outputs": [
    {
     "ename": "",
     "evalue": "",
     "output_type": "error",
     "traceback": [
      "\u001b[1;31mRunning cells with 'Python 3.12.3' requires the ipykernel package.\n",
      "\u001b[1;31mRun the following command to install 'ipykernel' into the Python environment. \n",
      "\u001b[1;31mCommand: '/usr/local/bin/python3 -m pip install ipykernel -U --user --force-reinstall'"
     ]
    }
   ],
   "source": [
    "WP1 = WavePocket(0.1,2)\n",
    "WP2 = WavePocket(0.1,10)\n",
    "print(WP1.f(1))\n",
    "print(WP2.f(1))\n",
    "print(WP2.forward_difference_approximation(1,0.001))\n",
    "print(WP2.central_difference_approximation(1,0.001))\n",
    "WP1.plot()\n",
    "WP2.plot()"
   ]
  },
  {
   "cell_type": "code",
   "execution_count": null,
   "metadata": {},
   "outputs": [
    {
     "ename": "",
     "evalue": "",
     "output_type": "error",
     "traceback": [
      "\u001b[1;31mRunning cells with 'Python 3.12.3' requires the ipykernel package.\n",
      "\u001b[1;31mRun the following command to install 'ipykernel' into the Python environment. \n",
      "\u001b[1;31mCommand: '/usr/local/bin/python3 -m pip install ipykernel -U --user --force-reinstall'"
     ]
    }
   ],
   "source": [
    "WP2.plot_error_vs_step_size(1)"
   ]
  },
  {
   "cell_type": "markdown",
   "metadata": {},
   "source": [
    "EXERCISE 4\n",
    "\n",
    "Part 1"
   ]
  },
  {
   "cell_type": "code",
   "execution_count": null,
   "metadata": {},
   "outputs": [
    {
     "ename": "",
     "evalue": "",
     "output_type": "error",
     "traceback": [
      "\u001b[1;31mRunning cells with 'Python 3.12.3' requires the ipykernel package.\n",
      "\u001b[1;31mRun the following command to install 'ipykernel' into the Python environment. \n",
      "\u001b[1;31mCommand: '/usr/local/bin/python3 -m pip install ipykernel -U --user --force-reinstall'"
     ]
    }
   ],
   "source": [
    "import rockhound as rh\n",
    "import matplotlib.pyplot as plt\n",
    "import cmocean\n",
    "import xarray\n",
    "import rasterio\n",
    "\n",
    "bedmap = rh.fetch_bedmap2(datasets=[\"thickness\", \"surface\", \"bed\"])\n",
    "plt.figure(figsize=(8,7))\n",
    "ax = plt.subplot(111)\n",
    "surface = bedmap.surface\n",
    "surface.plot.pcolormesh(ax=ax, cmap=cmocean.cm.ice, cbar_kwargs=dict(pad=0.01, aspect=30))\n",
    "plt.title(\"Bedmap2 Antarctica\")\n",
    "plt.tight_layout()\n",
    "plt.show()"
   ]
  },
  {
   "cell_type": "markdown",
   "metadata": {},
   "source": [
    "EXERCISE 5\n",
    "\n",
    "Part 1 and 2"
   ]
  },
  {
   "cell_type": "code",
   "execution_count": null,
   "metadata": {},
   "outputs": [
    {
     "ename": "",
     "evalue": "",
     "output_type": "error",
     "traceback": [
      "\u001b[1;31mRunning cells with 'Python 3.12.3' requires the ipykernel package.\n",
      "\u001b[1;31mRun the following command to install 'ipykernel' into the Python environment. \n",
      "\u001b[1;31mCommand: '/usr/local/bin/python3 -m pip install ipykernel -U --user --force-reinstall'"
     ]
    }
   ],
   "source": [
    "class duple:\n",
    "    def __init__(self, top, bottom=0):\n",
    "        self.top = top\n",
    "        self.bottom = bottom\n",
    "    \n",
    "    def __add__(self, d):\n",
    "        return duple(self.top + d.top, self.bottom + d.bottom)\n",
    "    \n",
    "    def __repr__(self):\n",
    "        return \"[\"+str(self.top)+\", \"+str(self.bottom)+\"]\"\n",
    "    \n",
    "    def __str__(self):\n",
    "        return \"[\"+str(self.top)+\", \"+str(self.bottom)+\"]\"\n",
    "    \n",
    "    def __neg__(self):\n",
    "        return duple(-self.top, -self.bottom)\n",
    "    \n",
    "    def __pos__(self):\n",
    "        return duple(np.abs(self.top), np.abs(self.bottom))\n",
    "    \n",
    "    def __sub__(self, d):\n",
    "        return duple(self.top - d.top, self.bottom - d.bottom)\n",
    "    \n",
    "    def __mul__(self, d):\n",
    "        return duple(self.top * d.top, self.top * d.bottom + self.bottom * d.top)\n",
    "    \n",
    "    def derivate_top(self, h=0.000001):\n",
    "        return ((self.top + h) - (self.top - h)) / (2 * h)\n",
    "    \n",
    "    def derivate_bottom(self, h=0.000001):\n",
    "        return ((self.bottom + h) - (self.bottom - h)) / (2 * h)\n",
    "    \n",
    "    def __truediv__(self, d): # u/v, u'/v' \n",
    "        new_top = self.top / d.top\n",
    "        new_bottom = (self.bottom * d.top - self.top * d.bottom) / (d.top ** 2)\n",
    "        return duple(new_top, new_bottom)"
   ]
  },
  {
   "cell_type": "code",
   "execution_count": null,
   "metadata": {},
   "outputs": [
    {
     "ename": "",
     "evalue": "",
     "output_type": "error",
     "traceback": [
      "\u001b[1;31mRunning cells with 'Python 3.12.3' requires the ipykernel package.\n",
      "\u001b[1;31mRun the following command to install 'ipykernel' into the Python environment. \n",
      "\u001b[1;31mCommand: '/usr/local/bin/python3 -m pip install ipykernel -U --user --force-reinstall'"
     ]
    }
   ],
   "source": [
    "x = duple(1,2)\n",
    "y = duple(3,4)\n",
    "z=x-y\n",
    "print(z)"
   ]
  },
  {
   "cell_type": "markdown",
   "metadata": {},
   "source": [
    "Functions __repr__ and __str__ are used to convert unreadable strings into nicer readable format. "
   ]
  },
  {
   "cell_type": "markdown",
   "metadata": {},
   "source": [
    "Part 3"
   ]
  },
  {
   "cell_type": "code",
   "execution_count": null,
   "metadata": {},
   "outputs": [
    {
     "ename": "",
     "evalue": "",
     "output_type": "error",
     "traceback": [
      "\u001b[1;31mRunning cells with 'Python 3.12.3' requires the ipykernel package.\n",
      "\u001b[1;31mRun the following command to install 'ipykernel' into the Python environment. \n",
      "\u001b[1;31mCommand: '/usr/local/bin/python3 -m pip install ipykernel -U --user --force-reinstall'"
     ]
    }
   ],
   "source": [
    "print(x.top*y.top)\n",
    "print(x.bottom*y.top+x.top*y.bottom)"
   ]
  },
  {
   "cell_type": "code",
   "execution_count": null,
   "metadata": {},
   "outputs": [
    {
     "ename": "",
     "evalue": "",
     "output_type": "error",
     "traceback": [
      "\u001b[1;31mRunning cells with 'Python 3.12.3' requires the ipykernel package.\n",
      "\u001b[1;31mRun the following command to install 'ipykernel' into the Python environment. \n",
      "\u001b[1;31mCommand: '/usr/local/bin/python3 -m pip install ipykernel -U --user --force-reinstall'"
     ]
    }
   ],
   "source": [
    "(x.bottom*y.top-x.top*y.bottom)/(y.top*y.top)"
   ]
  },
  {
   "cell_type": "markdown",
   "metadata": {},
   "source": [
    "Part 4"
   ]
  },
  {
   "cell_type": "code",
   "execution_count": null,
   "metadata": {},
   "outputs": [
    {
     "ename": "",
     "evalue": "",
     "output_type": "error",
     "traceback": [
      "\u001b[1;31mRunning cells with 'Python 3.12.3' requires the ipykernel package.\n",
      "\u001b[1;31mRun the following command to install 'ipykernel' into the Python environment. \n",
      "\u001b[1;31mCommand: '/usr/local/bin/python3 -m pip install ipykernel -U --user --force-reinstall'"
     ]
    }
   ],
   "source": [
    "class dfunction:\n",
    "\n",
    "    def __init__(self, f, df):\n",
    "        self.f = f\n",
    "        self.df = df\n",
    "    \n",
    "    def __call__(self,d: duple):\n",
    "        top_value = self.f(d.top)\n",
    "        bottom_derivative = d.bottom * self.df(d.top)\n",
    "        return duple(top_value, bottom_derivative)"
   ]
  },
  {
   "cell_type": "code",
   "execution_count": null,
   "metadata": {},
   "outputs": [
    {
     "ename": "",
     "evalue": "",
     "output_type": "error",
     "traceback": [
      "\u001b[1;31mRunning cells with 'Python 3.12.3' requires the ipykernel package.\n",
      "\u001b[1;31mRun the following command to install 'ipykernel' into the Python environment. \n",
      "\u001b[1;31mCommand: '/usr/local/bin/python3 -m pip install ipykernel -U --user --force-reinstall'"
     ]
    }
   ],
   "source": [
    "import numpy as np\n",
    "\n",
    "def f(x):\n",
    "    return np.log(x)\n",
    "def df(x):\n",
    "    return 1/x\n",
    "\n",
    "x = 3.1\n",
    "One = duple(1.,0.)\n",
    "X = duple(x,1)\n",
    "Log = dfunction(f,df)\n",
    "Exp = dfunction(np.exp, np.exp)\n",
    "print(\"auto diff\", Log(One+Exp(X)))\n",
    "print(\"analytical \", np.log(1+np.exp(x)), np.exp(x)/(1+np.exp(x)))"
   ]
  },
  {
   "cell_type": "markdown",
   "metadata": {},
   "source": [
    "Part 5"
   ]
  },
  {
   "cell_type": "markdown",
   "metadata": {},
   "source": []
  },
  {
   "cell_type": "markdown",
   "metadata": {},
   "source": []
  },
  {
   "cell_type": "code",
   "execution_count": null,
   "metadata": {},
   "outputs": [
    {
     "ename": "",
     "evalue": "",
     "output_type": "error",
     "traceback": [
      "\u001b[1;31mRunning cells with 'Python 3.12.3' requires the ipykernel package.\n",
      "\u001b[1;31mRun the following command to install 'ipykernel' into the Python environment. \n",
      "\u001b[1;31mCommand: '/usr/local/bin/python3 -m pip install ipykernel -U --user --force-reinstall'"
     ]
    }
   ],
   "source": [
    "np.log(31)"
   ]
  },
  {
   "cell_type": "code",
   "execution_count": null,
   "metadata": {},
   "outputs": [
    {
     "ename": "",
     "evalue": "",
     "output_type": "error",
     "traceback": [
      "\u001b[1;31mRunning cells with 'Python 3.12.3' requires the ipykernel package.\n",
      "\u001b[1;31mRun the following command to install 'ipykernel' into the Python environment. \n",
      "\u001b[1;31mCommand: '/usr/local/bin/python3 -m pip install ipykernel -U --user --force-reinstall'"
     ]
    }
   ],
   "source": []
  }
 ],
 "metadata": {
  "kernelspec": {
   "display_name": "Python 3",
   "language": "python",
   "name": "python3"
  },
  "language_info": {
   "codemirror_mode": {
    "name": "ipython",
    "version": 3
   },
   "file_extension": ".py",
   "mimetype": "text/x-python",
   "name": "python",
   "nbconvert_exporter": "python",
   "pygments_lexer": "ipython3",
   "version": "3.12.4"
  }
 },
 "nbformat": 4,
 "nbformat_minor": 2
}
